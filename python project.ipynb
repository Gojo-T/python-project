{
 "cells": [
  {
   "cell_type": "code",
   "execution_count": 11,
   "id": "d3e454a5-059f-4c94-95f1-c8a966d6e53e",
   "metadata": {},
   "outputs": [
    {
     "name": "stdin",
     "output_type": "stream",
     "text": [
      "What is your Age 26\n",
      "Select Time Unit(M for Months,W for Weeks,D for Days,H for Hours,M for Minutes,S for Seconds): m\n"
     ]
    },
    {
     "name": "stdout",
     "output_type": "stream",
     "text": [
      "lived for312 Months.\n"
     ]
    }
   ],
   "source": [
    "def survival_duration_calculator(Age,Unit):\n",
    "    if Unit==\"M\":\n",
    "        return Age*12,\"Months\"\n",
    "    elif Unit==\"W\":\n",
    "        return Age*52,\"Weeks\"\n",
    "    elif Unit==\"D\":\n",
    "        return Age*365,\"Days\"\n",
    "    elif Unit==\"H\":\n",
    "        return Age*8760,\"Hours\"\n",
    "    elif Unit==\"Min\":\n",
    "        return Age*525600,\"Minutes\"\n",
    "    elif Unit==\"S\":\n",
    "        return Age*525600*60,\"Seconds\"\n",
    "    else:\n",
    "        return None,None\n",
    "Age=int(input(\"What is your Age\"))\n",
    "Time_Unit=input(\"Select Time Unit(M for Months,W for Weeks,D for Days,H for Hours,M for Minutes,S for Seconds):\").upper()\n",
    "duration,Unit=survival_duration_calculator(Age,Time_Unit)\n",
    "if duration is not None:\n",
    "     print(f\"lived for{duration} {Unit}.\")\n",
    "else:\n",
    "     print(\"Please check Time Unit You Selceted\")\n",
    "     "
   ]
  },
  {
   "cell_type": "code",
   "execution_count": 1,
   "id": "afc1e7d7-dd1d-4371-9c0a-49f92da3a4ed",
   "metadata": {},
   "outputs": [
    {
     "name": "stdin",
     "output_type": "stream",
     "text": [
      "What is your Age 34\n",
      "Select Time Unit(M for Months,W for Weeks,D for Days,H for Hours,M for Minutes,S for Seconds): H\n"
     ]
    },
    {
     "name": "stdout",
     "output_type": "stream",
     "text": [
      "lived for297840 Hours.\n"
     ]
    }
   ],
   "source": [
    "class survival_duration_calculator:\n",
    "    def __init__(self,Age):\n",
    "        self.Age=Age\n",
    "    def calculate_duration(self,Unit):\n",
    "        if Unit==\"M\":\n",
    "            return self.Age*12,\"Months\"\n",
    "        elif Unit==\"W\":\n",
    "            return self.Age*52,\"Weeks\"\n",
    "        elif Unit==\"D\":\n",
    "            return self.Age*365,\"Days\"\n",
    "        elif Unit==\"H\":\n",
    "            return self.Age*8760,\"Hours\"\n",
    "        elif Unit==\"MIN\":\n",
    "            return self.Age*525600,\"Minutes\"\n",
    "        elif Unit==\"S\":\n",
    "            return self.Age*525600*60,\"Seconds\"\n",
    "        else:\n",
    "            return None,None\n",
    "Age=int(input(\"What is your Age\"))\n",
    "Time_Unit=input(\"Select Time Unit(M for Months,W for Weeks,D for Days,H for Hours,M for Minutes,S for Seconds):\").upper()\n",
    "calculator =survival_duration_calculator(Age) \n",
    "duration,Unit=calculator.calculate_duration(Time_Unit)\n",
    "if duration is not None:\n",
    "     print(f\"lived for{duration} {Unit}.\")\n",
    "else:\n",
    "     print(\"Please check Time Unit You Selceted\")\n"
   ]
  },
  {
   "cell_type": "code",
   "execution_count": null,
   "id": "6a7143ec-83d8-4872-a836-6b451012ffb4",
   "metadata": {},
   "outputs": [],
   "source": []
  }
 ],
 "metadata": {
  "kernelspec": {
   "display_name": "Python 3 (ipykernel)",
   "language": "python",
   "name": "python3"
  },
  "language_info": {
   "codemirror_mode": {
    "name": "ipython",
    "version": 3
   },
   "file_extension": ".py",
   "mimetype": "text/x-python",
   "name": "python",
   "nbconvert_exporter": "python",
   "pygments_lexer": "ipython3",
   "version": "3.11.7"
  }
 },
 "nbformat": 4,
 "nbformat_minor": 5
}
